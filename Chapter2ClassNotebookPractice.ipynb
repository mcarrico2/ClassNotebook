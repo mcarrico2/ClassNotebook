{
 "cells": [
  {
   "cell_type": "code",
   "execution_count": 1,
   "id": "b9d5161b",
   "metadata": {},
   "outputs": [
    {
     "name": "stdout",
     "output_type": "stream",
     "text": [
      "6\n"
     ]
    }
   ],
   "source": [
    "a=3\n",
    "b=a*2\n",
    "print(b)"
   ]
  },
  {
   "cell_type": "code",
   "execution_count": 2,
   "id": "bccc1779",
   "metadata": {
    "scrolled": true
   },
   "outputs": [
    {
     "name": "stdout",
     "output_type": "stream",
     "text": [
      "11\n"
     ]
    }
   ],
   "source": [
    "c=5\n",
    "d=6\n",
    "print(c+d)"
   ]
  },
  {
   "cell_type": "code",
   "execution_count": 3,
   "id": "32229099",
   "metadata": {},
   "outputs": [
    {
     "name": "stdout",
     "output_type": "stream",
     "text": [
      "Hello Class\n"
     ]
    }
   ],
   "source": [
    "print(\"Hello Class\")"
   ]
  },
  {
   "cell_type": "markdown",
   "id": "2e780e24",
   "metadata": {},
   "source": [
    "# Heading 1"
   ]
  },
  {
   "cell_type": "markdown",
   "id": "9606d6b1",
   "metadata": {},
   "source": [
    "## Heading 2"
   ]
  },
  {
   "cell_type": "markdown",
   "id": "101974d7",
   "metadata": {},
   "source": [
    "### Heading 3"
   ]
  },
  {
   "cell_type": "markdown",
   "id": "16e7c323",
   "metadata": {},
   "source": [
    "#### Heading 4"
   ]
  },
  {
   "cell_type": "markdown",
   "id": "c970e6f2",
   "metadata": {},
   "source": [
    "##### Heading 5"
   ]
  },
  {
   "cell_type": "markdown",
   "id": "f7268bee",
   "metadata": {},
   "source": [
    "\n",
    "###### Heading 6"
   ]
  },
  {
   "cell_type": "markdown",
   "id": "17e0a4a7",
   "metadata": {},
   "source": [
    "* List 1"
   ]
  },
  {
   "cell_type": "markdown",
   "id": "a88e64d5",
   "metadata": {},
   "source": [
    "* List 2\n"
   ]
  },
  {
   "cell_type": "markdown",
   "id": "915ecfb7",
   "metadata": {},
   "source": [
    "1. Ordered list 1"
   ]
  },
  {
   "cell_type": "markdown",
   "id": "aa016b38",
   "metadata": {},
   "source": [
    "2. Ordered list 2\n"
   ]
  },
  {
   "cell_type": "markdown",
   "id": "51c79a01",
   "metadata": {},
   "source": [
    "<a href=\"https://www.google.com/\"></a>"
   ]
  },
  {
   "cell_type": "markdown",
   "id": "b970e29b",
   "metadata": {},
   "source": [
    "<a href=\"https://google.com\">Google</a>\n"
   ]
  },
  {
   "cell_type": "markdown",
   "id": "657d6ea3",
   "metadata": {},
   "source": [
    "![Tree](https://cdn.pixabay.com/photo/2015/04/23/22/00/tree-736885_1280.jpg)"
   ]
  }
 ],
 "metadata": {
  "kernelspec": {
   "display_name": "Python 3 (ipykernel)",
   "language": "python",
   "name": "python3"
  },
  "language_info": {
   "codemirror_mode": {
    "name": "ipython",
    "version": 3
   },
   "file_extension": ".py",
   "mimetype": "text/x-python",
   "name": "python",
   "nbconvert_exporter": "python",
   "pygments_lexer": "ipython3",
   "version": "3.9.12"
  }
 },
 "nbformat": 4,
 "nbformat_minor": 5
}
